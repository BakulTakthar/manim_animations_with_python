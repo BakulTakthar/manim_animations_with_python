{
 "cells": [
  {
   "cell_type": "code",
   "execution_count": 1,
   "metadata": {},
   "outputs": [
    {
     "ename": "ModuleNotFoundError",
     "evalue": "No module named 'pkg_resources'",
     "output_type": "error",
     "traceback": [
      "\u001b[1;31m---------------------------------------------------------------------------\u001b[0m",
      "\u001b[1;31mModuleNotFoundError\u001b[0m                       Traceback (most recent call last)",
      "Cell \u001b[1;32mIn[1], line 1\u001b[0m\n\u001b[1;32m----> 1\u001b[0m \u001b[38;5;28;01mfrom\u001b[39;00m \u001b[38;5;21;01mmanim\u001b[39;00m \u001b[38;5;28;01mimport\u001b[39;00m \u001b[38;5;241m*\u001b[39m\n\u001b[0;32m      3\u001b[0m \u001b[38;5;28;01mclass\u001b[39;00m \u001b[38;5;21;01mMatrixTransformations\u001b[39;00m(Scene):\n\u001b[0;32m      4\u001b[0m     \u001b[38;5;28;01mdef\u001b[39;00m \u001b[38;5;21mconstruct\u001b[39m(\u001b[38;5;28mself\u001b[39m):\n\u001b[0;32m      5\u001b[0m         \u001b[38;5;66;03m# Create a square object\u001b[39;00m\n",
      "File \u001b[1;32m~\\AppData\\Roaming\\Python\\Python312\\site-packages\\manim\\__init__.py:6\u001b[0m\n\u001b[0;32m      1\u001b[0m \u001b[38;5;66;03m#!/usr/bin/env python\u001b[39;00m\n\u001b[0;32m      4\u001b[0m \u001b[38;5;28;01mfrom\u001b[39;00m \u001b[38;5;21;01m__future__\u001b[39;00m \u001b[38;5;28;01mimport\u001b[39;00m annotations\n\u001b[1;32m----> 6\u001b[0m \u001b[38;5;28;01mimport\u001b[39;00m \u001b[38;5;21;01mpkg_resources\u001b[39;00m\n\u001b[0;32m      8\u001b[0m __version__: \u001b[38;5;28mstr\u001b[39m \u001b[38;5;241m=\u001b[39m pkg_resources\u001b[38;5;241m.\u001b[39mget_distribution(\u001b[38;5;18m__name__\u001b[39m)\u001b[38;5;241m.\u001b[39mversion\n\u001b[0;32m     11\u001b[0m \u001b[38;5;28;01mimport\u001b[39;00m \u001b[38;5;21;01msys\u001b[39;00m\n",
      "\u001b[1;31mModuleNotFoundError\u001b[0m: No module named 'pkg_resources'"
     ]
    }
   ],
   "source": [
    "from manim import *\n",
    "\n",
    "class MatrixTransformations(Scene):\n",
    "    def construct(self):\n",
    "        # Create a square object\n",
    "        square = Square()\n",
    "\n",
    "        # Display the original square\n",
    "        self.play(Create(square))\n",
    "        self.wait(1)\n",
    "\n",
    "        # Define a function to apply matrix transformation\n",
    "        def apply_custom_matrix_transformation(matrix):\n",
    "            self.play(ApplyMatrixTransform(matrix, square), run_time=2)\n",
    "            self.wait(1)\n",
    "\n",
    "            # Reset the square\n",
    "            self.play(Restore(square))\n",
    "\n",
    "        # Example matrices: you can change these matrices\n",
    "        scaling_matrix = [[2, 0], [0, 2]]  # Scaling by a factor of 2\n",
    "        rotation_matrix = [[0, -1], [1, 0]]  # 90 degree rotation (counter-clockwise)\n",
    "        shearing_matrix = [[1, 1], [0, 1]]  # Shearing transformation\n",
    "\n",
    "        # Call the transformation function with any of the matrices\n",
    "        apply_custom_matrix_transformation(scaling_matrix)\n",
    "        apply_custom_matrix_transformation(rotation_matrix)\n",
    "        apply_custom_matrix_transformation(shearing_matrix)\n",
    "\n",
    "        # You can also define your own custom matrix and pass it\n",
    "        custom_matrix = [[1, 1], [0, -1]]  # Example custom matrix (reflection)\n",
    "        apply_custom_matrix_transformation(custom_matrix)\n"
   ]
  }
 ],
 "metadata": {
  "kernelspec": {
   "display_name": "Python 3",
   "language": "python",
   "name": "python3"
  },
  "language_info": {
   "codemirror_mode": {
    "name": "ipython",
    "version": 3
   },
   "file_extension": ".py",
   "mimetype": "text/x-python",
   "name": "python",
   "nbconvert_exporter": "python",
   "pygments_lexer": "ipython3",
   "version": "3.12.1"
  }
 },
 "nbformat": 4,
 "nbformat_minor": 2
}
